{
 "cells": [
  {
   "cell_type": "code",
   "execution_count": 1,
   "metadata": {},
   "outputs": [
    {
     "name": "stdout",
     "output_type": "stream",
     "text": [
      "Dataset cleaned and saved as 'Cleaned_AugmentedResumeDataSet.csv'\n"
     ]
    }
   ],
   "source": [
    "import pandas as pd\n",
    "import re\n",
    "\n",
    "# Load dataset\n",
    "resumeDataSet = pd.read_csv(\"C:/Users/Arpita Patil/OneDrive/Pictures/Desktop/AugmentedResumeDataSet.csv\")\n",
    "\n",
    "# Function to clean phone numbers\n",
    "def clean_phone_number(phone):\n",
    "    # Remove all non-numeric characters\n",
    "    phone = re.sub(r'\\D', '', str(phone))\n",
    "    # Ensure phone number contains exactly 10 digits\n",
    "    if len(phone) == 10:\n",
    "        return phone\n",
    "    return None  # Return None for invalid phone numbers\n",
    "\n",
    "# Function to validate email addresses\n",
    "def clean_email(email):\n",
    "    email = str(email).strip()\n",
    "    # Regex for valid email\n",
    "    email_regex = r'^[a-zA-Z0-9._%+-]+@[a-zA-Z0-9.-]+\\.[a-zA-Z]{2,}$'\n",
    "    if re.match(email_regex, email):\n",
    "        return email\n",
    "    return None  # Return None for invalid emails\n",
    "\n",
    "# Apply cleaning functions to the dataset\n",
    "resumeDataSet['Phone'] = resumeDataSet['Phone'].apply(clean_phone_number)\n",
    "resumeDataSet['Email'] = resumeDataSet['Email'].apply(clean_email)\n",
    "\n",
    "# Drop rows with invalid phone numbers or emails\n",
    "resumeDataSet = resumeDataSet.dropna(subset=['Phone', 'Email'])\n",
    "\n",
    "# Save the cleaned dataset back to a CSV file\n",
    "resumeDataSet.to_csv(\"Cleaned_AugmentedResumeDataSet.csv\", index=False)\n",
    "\n",
    "print(\"Dataset cleaned and saved as 'Cleaned_AugmentedResumeDataSet.csv'\")\n"
   ]
  }
 ],
 "metadata": {
  "kernelspec": {
   "display_name": "Python 3",
   "language": "python",
   "name": "python3"
  },
  "language_info": {
   "codemirror_mode": {
    "name": "ipython",
    "version": 3
   },
   "file_extension": ".py",
   "mimetype": "text/x-python",
   "name": "python",
   "nbconvert_exporter": "python",
   "pygments_lexer": "ipython3",
   "version": "3.12.8"
  }
 },
 "nbformat": 4,
 "nbformat_minor": 2
}
